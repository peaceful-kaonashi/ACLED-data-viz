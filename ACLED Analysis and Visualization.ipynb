{
 "cells": [
  {
   "cell_type": "code",
   "execution_count": 6,
   "metadata": {},
   "outputs": [],
   "source": [
    "# Setting up\n",
    "import pandas as pd\n",
    "pd.plotting.register_matplotlib_converters()\n",
    "import matplotlib.pyplot as plt\n",
    "%matplotlib inline\n",
    "import seaborn as sns"
   ]
  },
  {
   "cell_type": "code",
   "execution_count": 7,
   "metadata": {
    "scrolled": true
   },
   "outputs": [
    {
     "data": {
      "text/html": [
       "<div>\n",
       "<style scoped>\n",
       "    .dataframe tbody tr th:only-of-type {\n",
       "        vertical-align: middle;\n",
       "    }\n",
       "\n",
       "    .dataframe tbody tr th {\n",
       "        vertical-align: top;\n",
       "    }\n",
       "\n",
       "    .dataframe thead th {\n",
       "        text-align: right;\n",
       "    }\n",
       "</style>\n",
       "<table border=\"1\" class=\"dataframe\">\n",
       "  <thead>\n",
       "    <tr style=\"text-align: right;\">\n",
       "      <th></th>\n",
       "      <th>data_id</th>\n",
       "      <th>iso</th>\n",
       "      <th>event_id_cnty</th>\n",
       "      <th>event_id_no_cnty</th>\n",
       "      <th>event_date</th>\n",
       "      <th>year</th>\n",
       "      <th>time_precision</th>\n",
       "      <th>event_type</th>\n",
       "      <th>sub_event_type</th>\n",
       "      <th>actor1</th>\n",
       "      <th>...</th>\n",
       "      <th>location</th>\n",
       "      <th>latitude</th>\n",
       "      <th>longitude</th>\n",
       "      <th>geo_precision</th>\n",
       "      <th>source</th>\n",
       "      <th>source_scale</th>\n",
       "      <th>notes</th>\n",
       "      <th>fatalities</th>\n",
       "      <th>timestamp</th>\n",
       "      <th>iso3</th>\n",
       "    </tr>\n",
       "  </thead>\n",
       "  <tbody>\n",
       "    <tr>\n",
       "      <th>0</th>\n",
       "      <td>7154979</td>\n",
       "      <td>100</td>\n",
       "      <td>BGR980</td>\n",
       "      <td>980</td>\n",
       "      <td>04-Jul-20</td>\n",
       "      <td>2020</td>\n",
       "      <td>1</td>\n",
       "      <td>Protests</td>\n",
       "      <td>Peaceful protest</td>\n",
       "      <td>Protesters (Bulgaria)</td>\n",
       "      <td>...</td>\n",
       "      <td>Ruse</td>\n",
       "      <td>43.8564</td>\n",
       "      <td>25.9708</td>\n",
       "      <td>2</td>\n",
       "      <td>Fakti.bg; Bulgarian News Agency</td>\n",
       "      <td>National</td>\n",
       "      <td>On 4 July 2020, residents blocked the road fro...</td>\n",
       "      <td>0</td>\n",
       "      <td>1594154156</td>\n",
       "      <td>BGR</td>\n",
       "    </tr>\n",
       "    <tr>\n",
       "      <th>1</th>\n",
       "      <td>7154989</td>\n",
       "      <td>300</td>\n",
       "      <td>GRC2054</td>\n",
       "      <td>2054</td>\n",
       "      <td>04-Jul-20</td>\n",
       "      <td>2020</td>\n",
       "      <td>1</td>\n",
       "      <td>Riots</td>\n",
       "      <td>Mob violence</td>\n",
       "      <td>Rioters (Greece)</td>\n",
       "      <td>...</td>\n",
       "      <td>Athens-Central Athens</td>\n",
       "      <td>37.9685</td>\n",
       "      <td>23.7585</td>\n",
       "      <td>1</td>\n",
       "      <td>To Vima; Ekathimerini; AMNA</td>\n",
       "      <td>National</td>\n",
       "      <td>On 4 July 2020, early in the morning, about 15...</td>\n",
       "      <td>0</td>\n",
       "      <td>1594154156</td>\n",
       "      <td>GRC</td>\n",
       "    </tr>\n",
       "    <tr>\n",
       "      <th>2</th>\n",
       "      <td>7155009</td>\n",
       "      <td>643</td>\n",
       "      <td>RUS4610</td>\n",
       "      <td>4610</td>\n",
       "      <td>04-Jul-20</td>\n",
       "      <td>2020</td>\n",
       "      <td>1</td>\n",
       "      <td>Protests</td>\n",
       "      <td>Protest with intervention</td>\n",
       "      <td>Protesters (Russia)</td>\n",
       "      <td>...</td>\n",
       "      <td>Pskov</td>\n",
       "      <td>57.8136</td>\n",
       "      <td>28.3496</td>\n",
       "      <td>1</td>\n",
       "      <td>DW; RFE/RL; MBK Media; Moskovskij Komsomolets</td>\n",
       "      <td>National-Regional</td>\n",
       "      <td>On 4 July 2020, police detained at least 2 out...</td>\n",
       "      <td>0</td>\n",
       "      <td>1594154156</td>\n",
       "      <td>RUS</td>\n",
       "    </tr>\n",
       "    <tr>\n",
       "      <th>3</th>\n",
       "      <td>7155010</td>\n",
       "      <td>643</td>\n",
       "      <td>RUS4611</td>\n",
       "      <td>4611</td>\n",
       "      <td>04-Jul-20</td>\n",
       "      <td>2020</td>\n",
       "      <td>1</td>\n",
       "      <td>Protests</td>\n",
       "      <td>Peaceful protest</td>\n",
       "      <td>Protesters (Russia)</td>\n",
       "      <td>...</td>\n",
       "      <td>Moscow-Central</td>\n",
       "      <td>55.7571</td>\n",
       "      <td>37.6173</td>\n",
       "      <td>1</td>\n",
       "      <td>Activatica; Rosbalt; RFE/RL; Echo Moscow</td>\n",
       "      <td>Other-National</td>\n",
       "      <td>On 4 July 2020, between 100 and 500 people too...</td>\n",
       "      <td>0</td>\n",
       "      <td>1594154156</td>\n",
       "      <td>RUS</td>\n",
       "    </tr>\n",
       "    <tr>\n",
       "      <th>4</th>\n",
       "      <td>7155012</td>\n",
       "      <td>804</td>\n",
       "      <td>UKR38961</td>\n",
       "      <td>38961</td>\n",
       "      <td>04-Jul-20</td>\n",
       "      <td>2020</td>\n",
       "      <td>1</td>\n",
       "      <td>Explosions/Remote violence</td>\n",
       "      <td>Shelling/artillery/missile attack</td>\n",
       "      <td>Military Forces of Ukraine (2019-)</td>\n",
       "      <td>...</td>\n",
       "      <td>Holubivske</td>\n",
       "      <td>48.6920</td>\n",
       "      <td>38.6036</td>\n",
       "      <td>2</td>\n",
       "      <td>LPR People's Militia Press Service; OSCE SMM-U...</td>\n",
       "      <td>Other</td>\n",
       "      <td>On 4 July 2020, the Ukrainian Forces fired 120...</td>\n",
       "      <td>0</td>\n",
       "      <td>1594154156</td>\n",
       "      <td>UKR</td>\n",
       "    </tr>\n",
       "  </tbody>\n",
       "</table>\n",
       "<p>5 rows × 31 columns</p>\n",
       "</div>"
      ],
      "text/plain": [
       "   data_id  iso event_id_cnty  event_id_no_cnty event_date  year  \\\n",
       "0  7154979  100        BGR980               980  04-Jul-20  2020   \n",
       "1  7154989  300       GRC2054              2054  04-Jul-20  2020   \n",
       "2  7155009  643       RUS4610              4610  04-Jul-20  2020   \n",
       "3  7155010  643       RUS4611              4611  04-Jul-20  2020   \n",
       "4  7155012  804      UKR38961             38961  04-Jul-20  2020   \n",
       "\n",
       "   time_precision                  event_type  \\\n",
       "0               1                    Protests   \n",
       "1               1                       Riots   \n",
       "2               1                    Protests   \n",
       "3               1                    Protests   \n",
       "4               1  Explosions/Remote violence   \n",
       "\n",
       "                      sub_event_type                              actor1  ...  \\\n",
       "0                   Peaceful protest               Protesters (Bulgaria)  ...   \n",
       "1                       Mob violence                    Rioters (Greece)  ...   \n",
       "2          Protest with intervention                 Protesters (Russia)  ...   \n",
       "3                   Peaceful protest                 Protesters (Russia)  ...   \n",
       "4  Shelling/artillery/missile attack  Military Forces of Ukraine (2019-)  ...   \n",
       "\n",
       "                location  latitude longitude geo_precision  \\\n",
       "0                   Ruse   43.8564   25.9708             2   \n",
       "1  Athens-Central Athens   37.9685   23.7585             1   \n",
       "2                  Pskov   57.8136   28.3496             1   \n",
       "3         Moscow-Central   55.7571   37.6173             1   \n",
       "4             Holubivske   48.6920   38.6036             2   \n",
       "\n",
       "                                              source       source_scale  \\\n",
       "0                    Fakti.bg; Bulgarian News Agency           National   \n",
       "1                        To Vima; Ekathimerini; AMNA           National   \n",
       "2      DW; RFE/RL; MBK Media; Moskovskij Komsomolets  National-Regional   \n",
       "3           Activatica; Rosbalt; RFE/RL; Echo Moscow     Other-National   \n",
       "4  LPR People's Militia Press Service; OSCE SMM-U...              Other   \n",
       "\n",
       "                                               notes fatalities   timestamp  \\\n",
       "0  On 4 July 2020, residents blocked the road fro...          0  1594154156   \n",
       "1  On 4 July 2020, early in the morning, about 15...          0  1594154156   \n",
       "2  On 4 July 2020, police detained at least 2 out...          0  1594154156   \n",
       "3  On 4 July 2020, between 100 and 500 people too...          0  1594154156   \n",
       "4  On 4 July 2020, the Ukrainian Forces fired 120...          0  1594154156   \n",
       "\n",
       "  iso3  \n",
       "0  BGR  \n",
       "1  GRC  \n",
       "2  RUS  \n",
       "3  RUS  \n",
       "4  UKR  \n",
       "\n",
       "[5 rows x 31 columns]"
      ]
     },
     "execution_count": 7,
     "metadata": {},
     "output_type": "execute_result"
    }
   ],
   "source": [
    "# Reading in the data\n",
    "ACLED_Europe_filepath = r\"C:\\Users\\efras\\OneDrive\\Documents\\Personal\\Data and Analysis\\1900-01-01-2020-07-13-Europe-ACLED.csv\"\n",
    "ACLED_Europe_data = pd.read_csv(ACLED_Europe_filepath)\n",
    "ACLED_Europe_data.head()"
   ]
  },
  {
   "cell_type": "markdown",
   "metadata": {},
   "source": [
    "# Initial Exploration"
   ]
  },
  {
   "cell_type": "code",
   "execution_count": 8,
   "metadata": {},
   "outputs": [],
   "source": [
    "# Shorten some names for easier graphing\n",
    "ACLED_Europe_data = ACLED_Europe_data.replace(['Bosnia and Herzegovina', 'North Macedonia'], ['B & H', 'N. Macedonia'])"
   ]
  },
  {
   "cell_type": "markdown",
   "metadata": {},
   "source": [
    "First, I want to get an idea of what type of events occur most often, and what countries they most frequently occur in."
   ]
  },
  {
   "cell_type": "code",
   "execution_count": 35,
   "metadata": {
    "scrolled": true
   },
   "outputs": [
    {
     "data": {
      "text/plain": [
       "Text(0.5, 1.0, 'ACLED Events in the Balkans and Eastern Europe by Country, 2018-2020')"
      ]
     },
     "execution_count": 35,
     "metadata": {},
     "output_type": "execute_result"
    },
    {
     "data": {
      "image/png": "[encoded data removed]",
      "text/plain": [
       "<Figure size 864x1440 with 1 Axes>"
      ]
     },
     "metadata": {
      "needs_background": "light"
     },
     "output_type": "display_data"
    }
   ],
   "source": [
    "# Bar graph of country representation\n",
    "# Get country count\n",
    "country_count = ACLED_Europe_data.country.value_counts()\n",
    "# Turn all countries represented less than 500 times into an 'other' category\n",
    "country_count_under_500 = country_count.loc[country_count < 500]\n",
    "country_count = country_count.loc[country_count >= 500]\n",
    "country_count_others = pd.Series([country_count_under_500.sum()], index=['Others'])\n",
    "country_count = pd.concat([country_count, country_count_others])\n",
    "# Graph it\n",
    "plt.figure(figsize=(12, 20))\n",
    "sns.barplot(x=country_count.index, y=country_count, palette='Spectral')\n",
    "plt.xlabel('Countries')\n",
    "plt.ylabel('# of Events')\n",
    "plt.title('ACLED Events in the Balkans and Eastern Europe by Country, 2018-2020')"
   ]
  },
  {
   "cell_type": "code",
   "execution_count": 10,
   "metadata": {
    "scrolled": false
   },
   "outputs": [
    {
     "data": {
      "text/plain": [
       "Text(0.5, 1.0, 'ACLED Events in the Balkans and Eastern Europe, 2018-2020')"
      ]
     },
     "execution_count": 10,
     "metadata": {},
     "output_type": "execute_result"
    },
    {
     "data": {
      "image/png": "[encoded data removed]",
      "text/plain": [
       "<Figure size 864x720 with 1 Axes>"
      ]
     },
     "metadata": {
      "needs_background": "light"
     },
     "output_type": "display_data"
    }
   ],
   "source": [
    "# Bar graph of different types of events\n",
    "# Get event count\n",
    "event_type_count = ACLED_Europe_data.event_type.value_counts()\n",
    "# Graph it\n",
    "plt.figure(figsize=(12, 10))\n",
    "sns.barplot(x=event_type_count.index, y=event_type_count, palette='Spectral')\n",
    "plt.xlabel('Event Types')\n",
    "plt.ylabel('# of Events')\n",
    "plt.title('ACLED Events in the Balkans and Eastern Europe by Event Type, 2018-2020')"
   ]
  },
  {
   "cell_type": "markdown",
   "metadata": {},
   "source": [
    "The Ukraine Crisis and the War in Donbass have a dramatic impact, as Ukraine is by far the most frequently represented in the data set. This conflict likely also accounts for the frequency of battles. Focusing on the Ukraine conflict may be a promising first step."
   ]
  },
  {
   "cell_type": "markdown",
   "metadata": {},
   "source": [
    "# The Ukraine Conflict"
   ]
  }
 ],
 "metadata": {
  "kernelspec": {
   "display_name": "Python 3",
   "language": "python",
   "name": "python3"
  },
  "language_info": {
   "codemirror_mode": {
    "name": "ipython",
    "version": 3
   },
   "file_extension": ".py",
   "mimetype": "text/x-python",
   "name": "python",
   "nbconvert_exporter": "python",
   "pygments_lexer": "ipython3",
   "version": "3.7.6"
  }
 },
 "nbformat": 4,
 "nbformat_minor": 4
}
